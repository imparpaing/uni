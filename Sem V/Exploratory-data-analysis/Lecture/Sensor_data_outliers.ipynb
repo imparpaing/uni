{
 "cells": [
  {
   "cell_type": "markdown",
   "metadata": {},
   "source": [
    "### EDA Lecture - Finals Assignment\n",
    "\n",
    "#### Temperature Sensor Data Outlier Detection"
   ]
  },
  {
   "cell_type": "markdown",
   "metadata": {},
   "source": [
    "##### Imports"
   ]
  },
  {
   "cell_type": "code",
   "execution_count": null,
   "metadata": {},
   "outputs": [],
   "source": [
    "import matplotlib.pyplot as plt\n",
    "import pandas as pd"
   ]
  },
  {
   "cell_type": "markdown",
   "metadata": {},
   "source": [
    "##### Load & prepare the data"
   ]
  },
  {
   "cell_type": "code",
   "execution_count": null,
   "metadata": {},
   "outputs": [],
   "source": [
    "df_set_temp = pd.read_csv(filepath_or_buffer='./Data/Setpoint_LazienkaGorna.csv')\n",
    "df_measured_temp = pd.read_csv(filepath_or_buffer='./Data/Temperatura_LazienkaGorna.csv')\n",
    "df_outside_temp = pd.read_csv(filepath_or_buffer='./Data/TemperaturaZewnetrzna.csv')"
   ]
  },
  {
   "cell_type": "code",
   "execution_count": null,
   "metadata": {},
   "outputs": [],
   "source": [
    "print(df_set_temp.head())\n",
    "print(df_measured_temp.head())\n",
    "print(df_outside_temp.head())"
   ]
  },
  {
   "cell_type": "code",
   "execution_count": null,
   "metadata": {},
   "outputs": [],
   "source": [
    "# Convert time to human-readable datetime\n",
    "\n",
    "df_set_temp['time'] = pd.to_datetime(df_set_temp['time'])\n",
    "df_set_temp.head()"
   ]
  },
  {
   "cell_type": "code",
   "execution_count": null,
   "metadata": {},
   "outputs": [],
   "source": [
    "df_measured_temp['time'] = pd.to_datetime(df_set_temp['time'])\n",
    "df_outside_temp['time'] = pd.to_datetime(df_set_temp['time'])"
   ]
  },
  {
   "cell_type": "markdown",
   "metadata": {},
   "source": [
    "##### Visualize the data"
   ]
  },
  {
   "cell_type": "code",
   "execution_count": null,
   "metadata": {},
   "outputs": [],
   "source": [
    "fix, axes = plt.subplots(nrows=3, ncols=1, figsize=(15, 5))\n",
    "\n",
    "axes[0].plot(df_set_temp['time'], df_set_temp['value'], label='Set Temp')\n",
    "axes[0].set_title('Set Temp')\n",
    "axes[0].set_xlabel('Time')\n",
    "axes[0].set_ylabel('Value')\n",
    "axes[0].legend()\n",
    "\n",
    "axes[1].plot(df_measured_temp['time'], df_measured_temp['value'], label='Measured Temp')\n",
    "axes[1].set_title('Measured Temp')\n",
    "axes[1].set_xlabel('Time')\n",
    "axes[1].set_ylabel('Value')\n",
    "axes[1].legend()\n",
    "\n",
    "axes[2].plot(df_outside_temp['time'], df_outside_temp['value'], label='Outside Temp')\n",
    "axes[2].set_title('Outside Temp')\n",
    "axes[2].set_xlabel('Time')\n",
    "axes[2].set_ylabel('Value')\n",
    "axes[2].legend()\n",
    "\n",
    "plt.tight_layout()\n",
    "plt.show()"
   ]
  },
  {
   "cell_type": "code",
   "execution_count": null,
   "metadata": {},
   "outputs": [],
   "source": [
    "# Redraw the plots with a smaller timeframe\n",
    "\n",
    "fix, axes = plt.subplots(nrows=3, ncols=1, figsize=(15, 5))\n",
    "\n",
    "axes[0].plot(df_set_temp['time'][:8000], df_set_temp['value'][:8000], label='Set Temp')\n",
    "axes[0].set_title('Set Temp')\n",
    "axes[0].set_xlabel('Time')\n",
    "axes[0].set_ylabel('Value')\n",
    "axes[0].legend()\n",
    "\n",
    "axes[1].plot(df_measured_temp['time'][:8000], df_measured_temp['value'][:8000], label='Measured Temp')\n",
    "axes[1].set_title('Measured Temp')\n",
    "axes[1].set_xlabel('Time')\n",
    "axes[1].set_ylabel('Value')\n",
    "axes[1].legend()\n",
    "\n",
    "axes[2].plot(df_outside_temp['time'][:8000], df_outside_temp['value'][:8000], label='Outside Temp')\n",
    "axes[2].set_title('Outside Temp')\n",
    "axes[2].set_xlabel('Time')\n",
    "axes[2].set_ylabel('Value')\n",
    "axes[2].legend()\n",
    "\n",
    "plt.tight_layout()\n",
    "plt.show()"
   ]
  },
  {
   "cell_type": "code",
   "execution_count": null,
   "metadata": {},
   "outputs": [],
   "source": [
    "# Find the standard deviation value for the dataset values\n",
    "\n",
    "set_temp_deviation = df_set_temp['value'].std()\n",
    "print(f'Set temp deviation: {set_temp_deviation}')\n",
    "\n",
    "measured_temp_deviation = df_measured_temp['value'].std()\n",
    "print(f'Measured temp deviation: {measured_temp_deviation}')\n",
    "\n",
    "outside_temp_deviation = df_outside_temp['value'].std()\n",
    "print(f'Outside temp deviation: {outside_temp_deviation}')"
   ]
  },
  {
   "cell_type": "markdown",
   "metadata": {},
   "source": [
    "##### Find min / max values from the available data"
   ]
  },
  {
   "cell_type": "code",
   "execution_count": null,
   "metadata": {},
   "outputs": [],
   "source": [
    "df_sets = [df_set_temp, df_measured_temp, df_outside_temp]\n",
    "\n",
    "for dataset in df_sets:\n",
    "    print(f'Data: {dataset[\"name\"][0]}')\n",
    "    print(f'MIN: {dataset[\"value\"].min()}')\n",
    "    print(f'MAX: {dataset[\"value\"].max()}')\n",
    "    print(f'Median: {dataset[\"value\"].median()}')\n",
    "    print(f'Mean: {dataset[\"value\"].mean()}')\n",
    "    print()"
   ]
  },
  {
   "cell_type": "code",
   "execution_count": null,
   "metadata": {},
   "outputs": [],
   "source": [
    "def calculate_outlier_threshold(data):\n",
    "    q1 = data.quantile(0.25)\n",
    "    q3 = data.quantile(0.75)\n",
    "    iqr = q3 - q1\n",
    "    lower_bound = q1 - 1.5 * iqr\n",
    "    upper_bound = q3 + 1.5 * iqr\n",
    "    return lower_bound, upper_bound"
   ]
  },
  {
   "cell_type": "code",
   "execution_count": null,
   "metadata": {},
   "outputs": [],
   "source": [
    "lower_bound, upper_bound = calculate_outlier_threshold(df_set_temp['value'])\n",
    "print(f'Outlier Threshold for the set temp: below {lower_bound} or above {upper_bound}')\n",
    "\n",
    "lower_bound, upper_bound = calculate_outlier_threshold(df_measured_temp['value'])\n",
    "print(f'Outlier Threshold for the measured temp: below {lower_bound} or above {upper_bound}')\n",
    "\n",
    "lower_bound, upper_bound = calculate_outlier_threshold(df_outside_temp['value'])\n",
    "print(f'Outlier Threshold for the outside temp: below {lower_bound} or above {upper_bound}')"
   ]
  },
  {
   "cell_type": "markdown",
   "metadata": {},
   "source": [
    "##### Look for outliers in data"
   ]
  },
  {
   "cell_type": "code",
   "execution_count": null,
   "metadata": {},
   "outputs": [],
   "source": [
    "from scipy.stats import zscore\n",
    "\n",
    "df_measured_temp['z_score'] = zscore(df_measured_temp['value'])\n",
    "anomalies = df_measured_temp[abs(df_measured_temp['z_score']) > 3]"
   ]
  },
  {
   "cell_type": "code",
   "execution_count": null,
   "metadata": {},
   "outputs": [],
   "source": [
    "plt.figure(figsize=(20, 8))\n",
    "plt.plot(df_measured_temp['time'], df_measured_temp['value'])\n",
    "plt.scatter(anomalies['time'], anomalies['value'], color='red', label='Anomalies')\n",
    "plt.legend()\n",
    "plt.show()"
   ]
  },
  {
   "cell_type": "code",
   "execution_count": null,
   "metadata": {},
   "outputs": [],
   "source": [
    "q1 = df_measured_temp['value'].quantile(0.25)\n",
    "q3 = df_measured_temp['value'].quantile(0.75)\n",
    "iqr = q3 - q1\n",
    "lower_bound = q1 - 1.5 * iqr\n",
    "upper_bound = q3 + 1.5 * iqr\n",
    "\n",
    "anomalies = df_measured_temp[(df_measured_temp['value'] < lower_bound) | (df_measured_temp['value'] > upper_bound)]"
   ]
  },
  {
   "cell_type": "code",
   "execution_count": null,
   "metadata": {},
   "outputs": [],
   "source": [
    "plt.figure(figsize=(20, 8))\n",
    "plt.plot(df_measured_temp['time'], df_measured_temp['value'])\n",
    "plt.scatter(anomalies['time'], anomalies['value'], color='red', label='Anomalies')\n",
    "plt.legend()\n",
    "plt.show()"
   ]
  },
  {
   "cell_type": "code",
   "execution_count": null,
   "metadata": {},
   "outputs": [],
   "source": [
    "from sklearn.ensemble import IsolationForest\n",
    "\n",
    "model = IsolationForest(contamination=0.05)\n",
    "df_measured_temp['anomaly'] = model.fit_predict(df_measured_temp[['value']])\n",
    "anomalies = df_measured_temp[df_measured_temp['anomaly'] == -1]"
   ]
  },
  {
   "cell_type": "code",
   "execution_count": null,
   "metadata": {},
   "outputs": [],
   "source": [
    "plt.figure(figsize=(20, 8))\n",
    "plt.plot(df_measured_temp['time'], df_measured_temp['value'])\n",
    "plt.scatter(anomalies['time'], anomalies['value'], color='red', label='Anomalies')\n",
    "plt.legend()\n",
    "plt.show()"
   ]
  }
 ],
 "metadata": {
  "kernelspec": {
   "display_name": "uni_eda",
   "language": "python",
   "name": "python3"
  },
  "language_info": {
   "codemirror_mode": {
    "name": "ipython",
    "version": 3
   },
   "file_extension": ".py",
   "mimetype": "text/x-python",
   "name": "python",
   "nbconvert_exporter": "python",
   "pygments_lexer": "ipython3",
   "version": "3.11.7"
  }
 },
 "nbformat": 4,
 "nbformat_minor": 2
}
