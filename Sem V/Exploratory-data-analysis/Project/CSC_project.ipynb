{
 "cells": [
  {
   "cell_type": "markdown",
   "metadata": {},
   "source": [
    "## Credit Score Classification"
   ]
  },
  {
   "cell_type": "markdown",
   "metadata": {},
   "source": [
    "### Imports"
   ]
  },
  {
   "cell_type": "code",
   "execution_count": null,
   "metadata": {},
   "outputs": [],
   "source": [
    "import pandas as pd\n",
    "import numpy as np\n",
    "import seaborn as sns\n",
    "import matplotlib.pyplot as plt"
   ]
  },
  {
   "cell_type": "markdown",
   "metadata": {},
   "source": [
    "### Data exploration & cleaning"
   ]
  },
  {
   "cell_type": "code",
   "execution_count": null,
   "metadata": {},
   "outputs": [],
   "source": [
    "# Load the dataset\n",
    "\n",
    "df = pd.read_csv(filepath_or_buffer='./Data/train.csv', low_memory=False)"
   ]
  },
  {
   "cell_type": "code",
   "execution_count": null,
   "metadata": {},
   "outputs": [],
   "source": [
    "df.head()"
   ]
  },
  {
   "cell_type": "code",
   "execution_count": null,
   "metadata": {},
   "outputs": [],
   "source": [
    "df.isnull().sum()"
   ]
  },
  {
   "cell_type": "code",
   "execution_count": null,
   "metadata": {},
   "outputs": [],
   "source": [
    "df.info()"
   ]
  },
  {
   "cell_type": "code",
   "execution_count": null,
   "metadata": {},
   "outputs": [],
   "source": [
    "# Check for duplicate entries in the dataset\n",
    "\n",
    "df.duplicated().any()"
   ]
  },
  {
   "cell_type": "code",
   "execution_count": null,
   "metadata": {},
   "outputs": [],
   "source": [
    "# Get unique values from every column\n",
    "\n",
    "columns = df.columns\n",
    "for column in columns:\n",
    "    print(f'{column}: {df[column].unique()}\\n')"
   ]
  },
  {
   "cell_type": "code",
   "execution_count": null,
   "metadata": {},
   "outputs": [],
   "source": [
    "# Find errors in the SSN column\n",
    "\n",
    "SSN_regex_pattern = r'^\\d{3}-\\d{2}-\\d{4}$'\n",
    "\n",
    "invalid_ssns = ~df['SSN'].str.match(pat=SSN_regex_pattern, na=True)\n",
    "invalid_ssns.sum()"
   ]
  },
  {
   "cell_type": "code",
   "execution_count": null,
   "metadata": {},
   "outputs": [],
   "source": [
    "# Preview incorrect SSN entries\n",
    "\n",
    "df.loc[invalid_ssns, 'SSN']"
   ]
  },
  {
   "cell_type": "code",
   "execution_count": null,
   "metadata": {},
   "outputs": [],
   "source": [
    "# View all the info for records with incorrect SSNs\n",
    "\n",
    "invalid_ssns_info = df.loc[invalid_ssns, :]\n",
    "invalid_ssns_info"
   ]
  },
  {
   "cell_type": "markdown",
   "metadata": {},
   "source": [
    "#### Removing errors in data"
   ]
  },
  {
   "cell_type": "code",
   "execution_count": null,
   "metadata": {},
   "outputs": [],
   "source": [
    "# Remove incorrect entries from the SSN column\n",
    "\n",
    "invalid_ssn_customer_IDs = invalid_ssns_info['Customer_ID'].unique()\n",
    "\n",
    "for customer in invalid_ssn_customer_IDs:\n",
    "    # Filter rows for the current Customer_ID\n",
    "    customer_rows = df[df['Customer_ID'] == customer]\n",
    "    # Extract valid SSN values if found\n",
    "    valid_ssns = customer_rows['SSN'].dropna().unique()\n",
    "    # Update the SSN for the customer with a valid one, if found\n",
    "    if len(valid_ssns) > 0:\n",
    "        df.loc[df['Customer_ID'] == customer, 'SSN'] = valid_ssns[0]"
   ]
  },
  {
   "cell_type": "code",
   "execution_count": null,
   "metadata": {},
   "outputs": [],
   "source": [
    "df[df['SSN'] == '#F%$D@*&8']"
   ]
  },
  {
   "cell_type": "code",
   "execution_count": null,
   "metadata": {},
   "outputs": [],
   "source": [
    "df[df['Customer_ID'] == 'CUS_0x132f']"
   ]
  },
  {
   "cell_type": "code",
   "execution_count": null,
   "metadata": {},
   "outputs": [],
   "source": [
    "# Remove leading and trailing underscores from the data\n",
    "\n",
    "df['Age'] = df['Age'].str.strip(to_strip='_')\n",
    "df['Annual_Income'] = df['Annual_Income'].str.strip(to_strip='_')\n",
    "df['Num_of_Loan'] = df['Num_of_Loan'].str.strip(to_strip='_')\n",
    "df['Num_of_Delayed_Payment'] = df['Num_of_Delayed_Payment'].str.strip(to_strip='_')\n",
    "df['Outstanding_Debt'] = df['Outstanding_Debt'].str.strip(to_strip='_')\n",
    "\n",
    "for column in columns:\n",
    "    print(f'{column}: {df[column].unique()}\\n')"
   ]
  },
  {
   "cell_type": "code",
   "execution_count": null,
   "metadata": {},
   "outputs": [],
   "source": [
    "# Remove the underscore entry from the Occupation column\n",
    "\n",
    "\n",
    "# Remove the underscore entry from the Changed_Credit_Limit column\n",
    "\n",
    "\n",
    "# Remove the underscore entry from the Credit_Mix column"
   ]
  },
  {
   "cell_type": "code",
   "execution_count": null,
   "metadata": {},
   "outputs": [],
   "source": [
    "# Remove leading 'and ' sequences from the Type_of_Load column"
   ]
  },
  {
   "cell_type": "code",
   "execution_count": null,
   "metadata": {},
   "outputs": [],
   "source": [
    "# Remove invalid entries (negative values, overestimated values)"
   ]
  },
  {
   "cell_type": "code",
   "execution_count": null,
   "metadata": {},
   "outputs": [],
   "source": [
    "# Remove incorrect entries from the Payment_Behaviour column"
   ]
  }
 ],
 "metadata": {
  "kernelspec": {
   "display_name": "uni_eda",
   "language": "python",
   "name": "python3"
  },
  "language_info": {
   "codemirror_mode": {
    "name": "ipython",
    "version": 3
   },
   "file_extension": ".py",
   "mimetype": "text/x-python",
   "name": "python",
   "nbconvert_exporter": "python",
   "pygments_lexer": "ipython3",
   "version": "3.11.7"
  }
 },
 "nbformat": 4,
 "nbformat_minor": 2
}
