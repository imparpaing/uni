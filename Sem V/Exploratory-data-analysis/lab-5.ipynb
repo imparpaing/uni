{
 "cells": [
  {
   "cell_type": "markdown",
   "metadata": {},
   "source": [
    "### Imports"
   ]
  },
  {
   "cell_type": "code",
   "execution_count": 89,
   "metadata": {},
   "outputs": [],
   "source": [
    "import pandas as pd\n",
    "import numpy as np"
   ]
  },
  {
   "cell_type": "markdown",
   "metadata": {},
   "source": [
    "### Zadanie 1"
   ]
  },
  {
   "cell_type": "code",
   "execution_count": 90,
   "metadata": {},
   "outputs": [],
   "source": [
    "np.random.seed(42)\n",
    "s1 = pd.Series(np.random.rand(20))\n",
    "s2 = pd.Series(np.random.randn(20))"
   ]
  },
  {
   "cell_type": "code",
   "execution_count": 91,
   "metadata": {},
   "outputs": [
    {
     "name": "stdout",
     "output_type": "stream",
     "text": [
      "(20,)\n",
      "(20,)\n",
      "0     0.374540\n",
      "1     0.950714\n",
      "2     0.731994\n",
      "3     0.598658\n",
      "4     0.156019\n",
      "5     0.155995\n",
      "6     0.058084\n",
      "7     0.866176\n",
      "8     0.601115\n",
      "9     0.708073\n",
      "10    0.020584\n",
      "11    0.969910\n",
      "12    0.832443\n",
      "13    0.212339\n",
      "14    0.181825\n",
      "15    0.183405\n",
      "16    0.304242\n",
      "17    0.524756\n",
      "18    0.431945\n",
      "19    0.291229\n",
      "dtype: float64\n",
      "0    -1.012831\n",
      "1     0.314247\n",
      "2    -0.908024\n",
      "3    -1.412304\n",
      "4     1.465649\n",
      "5    -0.225776\n",
      "6     0.067528\n",
      "7    -1.424748\n",
      "8    -0.544383\n",
      "9     0.110923\n",
      "10   -1.150994\n",
      "11    0.375698\n",
      "12   -0.600639\n",
      "13   -0.291694\n",
      "14   -0.601707\n",
      "15    1.852278\n",
      "16   -0.013497\n",
      "17   -1.057711\n",
      "18    0.822545\n",
      "19   -1.220844\n",
      "dtype: float64\n"
     ]
    }
   ],
   "source": [
    "print(s1.shape)\n",
    "print(s2.shape)\n",
    "print(s1)\n",
    "print(s2)"
   ]
  },
  {
   "cell_type": "code",
   "execution_count": 92,
   "metadata": {},
   "outputs": [
    {
     "name": "stdout",
     "output_type": "stream",
     "text": [
      "        col1      col2\n",
      "0   0.374540 -1.012831\n",
      "1   0.950714  0.314247\n",
      "2   0.731994 -0.908024\n",
      "3   0.598658 -1.412304\n",
      "4   0.156019  1.465649\n",
      "5   0.155995 -0.225776\n",
      "6   0.058084  0.067528\n",
      "7   0.866176 -1.424748\n",
      "8   0.601115 -0.544383\n",
      "9   0.708073  0.110923\n",
      "10  0.020584 -1.150994\n",
      "11  0.969910  0.375698\n",
      "12  0.832443 -0.600639\n",
      "13  0.212339 -0.291694\n",
      "14  0.181825 -0.601707\n",
      "15  0.183405  1.852278\n",
      "16  0.304242 -0.013497\n",
      "17  0.524756 -1.057711\n",
      "18  0.431945  0.822545\n",
      "19  0.291229 -1.220844\n"
     ]
    }
   ],
   "source": [
    "df_data = {'col1': s1, 'col2': s2}\n",
    "\n",
    "df = pd.DataFrame(df_data)\n",
    "print(df)"
   ]
  },
  {
   "cell_type": "markdown",
   "metadata": {},
   "source": [
    "### Zadanie 2"
   ]
  },
  {
   "cell_type": "code",
   "execution_count": 93,
   "metadata": {},
   "outputs": [
    {
     "name": "stdout",
     "output_type": "stream",
     "text": [
      "        col1      col2\n",
      "1   0.950714  0.314247\n",
      "6   0.058084  0.067528\n",
      "9   0.708073  0.110923\n",
      "11  0.969910  0.375698\n",
      "18  0.431945  0.822545\n"
     ]
    }
   ],
   "source": [
    "ext = df[df['col2'].between(left=0.0, right=1.0, inclusive='both')]\n",
    "print(ext)"
   ]
  },
  {
   "cell_type": "markdown",
   "metadata": {},
   "source": [
    "### Zadanie 3"
   ]
  },
  {
   "cell_type": "code",
   "execution_count": 94,
   "metadata": {},
   "outputs": [
    {
     "name": "stdout",
     "output_type": "stream",
     "text": [
      "[0, 1, 0, 0, 1, 0, 1, 0, 0, 1, 0, 1, 0, 0, 0, 1, 0, 0, 1, 0]\n"
     ]
    }
   ],
   "source": [
    "# Create the values list\n",
    "\n",
    "values = []\n",
    "for record in df['col2'].values:\n",
    "    if (record >= 0):\n",
    "        values.append(1)\n",
    "    else:\n",
    "        values.append(0)\n",
    "\n",
    "print(values)"
   ]
  },
  {
   "cell_type": "code",
   "execution_count": 95,
   "metadata": {},
   "outputs": [
    {
     "name": "stdout",
     "output_type": "stream",
     "text": [
      "        col1      col2  col3\n",
      "0   0.374540 -1.012831     0\n",
      "1   0.950714  0.314247     1\n",
      "2   0.731994 -0.908024     0\n",
      "3   0.598658 -1.412304     0\n",
      "4   0.156019  1.465649     1\n",
      "5   0.155995 -0.225776     0\n",
      "6   0.058084  0.067528     1\n",
      "7   0.866176 -1.424748     0\n",
      "8   0.601115 -0.544383     0\n",
      "9   0.708073  0.110923     1\n",
      "10  0.020584 -1.150994     0\n",
      "11  0.969910  0.375698     1\n",
      "12  0.832443 -0.600639     0\n",
      "13  0.212339 -0.291694     0\n",
      "14  0.181825 -0.601707     0\n",
      "15  0.183405  1.852278     1\n",
      "16  0.304242 -0.013497     0\n",
      "17  0.524756 -1.057711     0\n",
      "18  0.431945  0.822545     1\n",
      "19  0.291229 -1.220844     0\n"
     ]
    }
   ],
   "source": [
    "df['col3'] = values\n",
    "print(df)"
   ]
  },
  {
   "cell_type": "markdown",
   "metadata": {},
   "source": [
    "### Zadanie 4"
   ]
  },
  {
   "cell_type": "code",
   "execution_count": 96,
   "metadata": {},
   "outputs": [
    {
     "name": "stdout",
     "output_type": "stream",
     "text": [
      "        col1      col2  col3      col4\n",
      "0   0.374540 -1.012831     0 -1.000000\n",
      "1   0.950714  0.314247     1  0.314247\n",
      "2   0.731994 -0.908024     0 -0.908024\n",
      "3   0.598658 -1.412304     0 -1.000000\n",
      "4   0.156019  1.465649     1  1.465649\n",
      "5   0.155995 -0.225776     0 -0.225776\n",
      "6   0.058084  0.067528     1  0.067528\n",
      "7   0.866176 -1.424748     0 -1.000000\n",
      "8   0.601115 -0.544383     0 -0.544383\n",
      "9   0.708073  0.110923     1  0.110923\n",
      "10  0.020584 -1.150994     0 -1.000000\n",
      "11  0.969910  0.375698     1  0.375698\n",
      "12  0.832443 -0.600639     0 -0.600639\n",
      "13  0.212339 -0.291694     0 -0.291694\n",
      "14  0.181825 -0.601707     0 -0.601707\n",
      "15  0.183405  1.852278     1  1.852278\n",
      "16  0.304242 -0.013497     0 -0.013497\n",
      "17  0.524756 -1.057711     0 -1.000000\n",
      "18  0.431945  0.822545     1  0.822545\n",
      "19  0.291229 -1.220844     0 -1.000000\n"
     ]
    }
   ],
   "source": [
    "# Cap col2 values at 1.0 for values above 1.0 and at -1.0 for values below -1.0\n",
    "\n",
    "df['col4'] = np.where(df['col2'] >= 1.0, 1.0, df['col2'])\n",
    "df['col4'] = np.where(df['col2'] <= -1.0, -1.0, df['col2'])\n",
    "print(df)"
   ]
  },
  {
   "cell_type": "markdown",
   "metadata": {},
   "source": [
    "### Zadanie 5"
   ]
  },
  {
   "cell_type": "code",
   "execution_count": 97,
   "metadata": {},
   "outputs": [
    {
     "name": "stdout",
     "output_type": "stream",
     "text": [
      "15    1.852278\n",
      "4     1.465649\n",
      "18    0.822545\n",
      "11    0.375698\n",
      "1     0.314247\n",
      "Name: col2, dtype: float64\n",
      "\n",
      "17   -1.057711\n",
      "10   -1.150994\n",
      "19   -1.220844\n",
      "3    -1.412304\n",
      "7    -1.424748\n",
      "Name: col2, dtype: float64\n"
     ]
    }
   ],
   "source": [
    "sorted_col2_values = df['col2'].sort_values(axis=0, ascending=False)\n",
    "print(sorted_col2_values.head(5))\n",
    "print('')\n",
    "print(sorted_col2_values.tail(5))"
   ]
  },
  {
   "cell_type": "markdown",
   "metadata": {},
   "source": [
    "### Zadanie 6"
   ]
  },
  {
   "cell_type": "code",
   "execution_count": 98,
   "metadata": {},
   "outputs": [
    {
     "name": "stdout",
     "output_type": "stream",
     "text": [
      "        col1      col2  col3      col4\n",
      "0   0.374540 -1.012831     0 -1.000000\n",
      "1   1.325254 -0.698584     1 -0.685753\n",
      "2   2.057248 -1.606608     1 -1.593777\n",
      "3   2.655907 -3.018912     1 -2.593777\n",
      "4   2.811925 -1.553263     2 -1.128128\n",
      "5   2.967920 -1.779039     2 -1.353904\n",
      "6   3.026004 -1.711511     3 -1.286376\n",
      "7   3.892180 -3.136259     3 -2.286376\n",
      "8   4.493295 -3.680642     3 -2.830759\n",
      "9   5.201367 -3.569719     4 -2.719836\n",
      "10  5.221952 -4.720713     4 -3.719836\n",
      "11  6.191862 -4.345015     5 -3.344138\n",
      "12  7.024304 -4.945653     5 -3.944777\n",
      "13  7.236643 -5.237347     5 -4.236471\n",
      "14  7.418468 -5.839054     5 -4.838177\n",
      "15  7.601873 -3.986776     6 -2.985899\n",
      "16  7.906115 -4.000273     6 -2.999396\n",
      "17  8.430872 -5.057984     6 -3.999396\n",
      "18  8.862817 -4.235439     7 -3.176851\n",
      "19  9.154046 -5.456283     7 -4.176851\n"
     ]
    }
   ],
   "source": [
    "df_sum = pd.DataFrame.cumsum(self=df)\n",
    "print(df_sum)"
   ]
  }
 ],
 "metadata": {
  "kernelspec": {
   "display_name": "uni_eda",
   "language": "python",
   "name": "python3"
  },
  "language_info": {
   "codemirror_mode": {
    "name": "ipython",
    "version": 3
   },
   "file_extension": ".py",
   "mimetype": "text/x-python",
   "name": "python",
   "nbconvert_exporter": "python",
   "pygments_lexer": "ipython3",
   "version": "3.11.6"
  }
 },
 "nbformat": 4,
 "nbformat_minor": 2
}
