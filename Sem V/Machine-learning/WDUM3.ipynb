{
  "cells": [
    {
      "cell_type": "markdown",
      "metadata": {
        "id": "FEaT183lPmcJ"
      },
      "source": [
        "# Wstęp do uczenia maszynowego - laboratorium 3\n",
        "\n",
        "### Regresja liniowa"
      ]
    },
    {
      "cell_type": "markdown",
      "metadata": {
        "id": "u97b1Ii-PmcN"
      },
      "source": [
        "#### Pytania kontrolne\n",
        "1. Czym różni się regresja liniowa od regresji logistycznej?\n",
        "2. Na czym polega uczenie (większości) modeli?\n",
        "3. Jakie znasz funkcje straty?\n",
        "4. Skąd nazwa \"błąd średniokwadratowy\" (mean squared error, MSE)?"
      ]
    },
    {
      "cell_type": "markdown",
      "metadata": {
        "id": "z2OS_DpaPmcO"
      },
      "source": [
        "#### Ćwiczenie\n",
        "Załaduj dane dotyczące cukrzycy (`diabetes`) z `sklearn.datasets` i zapoznaj się z nimi:\n",
        "- jakie cechy posiadamy w danych?\n",
        "- co próbujemy przewidziec?\n",
        "\n",
        "Dokonaj podziału na zbiór uczący i testowy."
      ]
    },
    {
      "cell_type": "code",
      "execution_count": 19,
      "metadata": {
        "id": "37Kd4qAmPmcO"
      },
      "outputs": [
        {
          "name": "stdout",
          "output_type": "stream",
          "text": [
            ".. _diabetes_dataset:\n",
            "\n",
            "Diabetes dataset\n",
            "----------------\n",
            "\n",
            "Ten baseline variables, age, sex, body mass index, average blood\n",
            "pressure, and six blood serum measurements were obtained for each of n =\n",
            "442 diabetes patients, as well as the response of interest, a\n",
            "quantitative measure of disease progression one year after baseline.\n",
            "\n",
            "**Data Set Characteristics:**\n",
            "\n",
            "  :Number of Instances: 442\n",
            "\n",
            "  :Number of Attributes: First 10 columns are numeric predictive values\n",
            "\n",
            "  :Target: Column 11 is a quantitative measure of disease progression one year after baseline\n",
            "\n",
            "  :Attribute Information:\n",
            "      - age     age in years\n",
            "      - sex\n",
            "      - bmi     body mass index\n",
            "      - bp      average blood pressure\n",
            "      - s1      tc, total serum cholesterol\n",
            "      - s2      ldl, low-density lipoproteins\n",
            "      - s3      hdl, high-density lipoproteins\n",
            "      - s4      tch, total cholesterol / HDL\n",
            "      - s5      ltg, possibly log of serum triglycerides level\n",
            "      - s6      glu, blood sugar level\n",
            "\n",
            "Note: Each of these 10 feature variables have been mean centered and scaled by the standard deviation times the square root of `n_samples` (i.e. the sum of squares of each column totals 1).\n",
            "\n",
            "Source URL:\n",
            "https://www4.stat.ncsu.edu/~boos/var.select/diabetes.html\n",
            "\n",
            "For more information see:\n",
            "Bradley Efron, Trevor Hastie, Iain Johnstone and Robert Tibshirani (2004) \"Least Angle Regression,\" Annals of Statistics (with discussion), 407-499.\n",
            "(https://web.stanford.edu/~hastie/Papers/LARS/LeastAngle_2002.pdf)\n",
            "\n",
            "['age', 'sex', 'bmi', 'bp', 's1', 's2', 's3', 's4', 's5', 's6']\n"
          ]
        }
      ],
      "source": [
        "from sklearn.datasets import load_diabetes\n",
        "from sklearn.model_selection import train_test_split\n",
        "\n",
        "# View dataset description\n",
        "print(load_diabetes().DESCR)\n",
        "\n",
        "# View dataset labels\n",
        "labels = load_diabetes().feature_names\n",
        "print(labels)\n",
        "\n",
        "X, y = load_diabetes(return_X_y=True)\n",
        "\n",
        "train_X, test_X, train_y, test_y = train_test_split(X, y, test_size=0.2, random_state=42)"
      ]
    },
    {
      "cell_type": "markdown",
      "metadata": {
        "id": "hIkE8AadPmcP"
      },
      "source": [
        "### Ćwiczenie\n",
        "\n",
        "Znajdź linię prostą (y=ax+b), która najlepiej przedstawia zależność zmiennej celu od wartości BMI z danych uczących korzystając z modelu regresji liniowej (`LinearRegression` z `sklearn.linear_model`).\n",
        "\n",
        "uwaga:  \n",
        "sklearn oczekuje macierzy 2D jako cech, użyj `diabetes_X_train[:, None, numer_kolumny]` (dla [:, numer_kolumny] będzie błąd)"
      ]
    },
    {
      "cell_type": "code",
      "execution_count": 20,
      "metadata": {
        "id": "9gwSCMwWPmcQ"
      },
      "outputs": [
        {
          "data": {
            "text/html": [
              "<style>#sk-container-id-3 {color: black;}#sk-container-id-3 pre{padding: 0;}#sk-container-id-3 div.sk-toggleable {background-color: white;}#sk-container-id-3 label.sk-toggleable__label {cursor: pointer;display: block;width: 100%;margin-bottom: 0;padding: 0.3em;box-sizing: border-box;text-align: center;}#sk-container-id-3 label.sk-toggleable__label-arrow:before {content: \"▸\";float: left;margin-right: 0.25em;color: #696969;}#sk-container-id-3 label.sk-toggleable__label-arrow:hover:before {color: black;}#sk-container-id-3 div.sk-estimator:hover label.sk-toggleable__label-arrow:before {color: black;}#sk-container-id-3 div.sk-toggleable__content {max-height: 0;max-width: 0;overflow: hidden;text-align: left;background-color: #f0f8ff;}#sk-container-id-3 div.sk-toggleable__content pre {margin: 0.2em;color: black;border-radius: 0.25em;background-color: #f0f8ff;}#sk-container-id-3 input.sk-toggleable__control:checked~div.sk-toggleable__content {max-height: 200px;max-width: 100%;overflow: auto;}#sk-container-id-3 input.sk-toggleable__control:checked~label.sk-toggleable__label-arrow:before {content: \"▾\";}#sk-container-id-3 div.sk-estimator input.sk-toggleable__control:checked~label.sk-toggleable__label {background-color: #d4ebff;}#sk-container-id-3 div.sk-label input.sk-toggleable__control:checked~label.sk-toggleable__label {background-color: #d4ebff;}#sk-container-id-3 input.sk-hidden--visually {border: 0;clip: rect(1px 1px 1px 1px);clip: rect(1px, 1px, 1px, 1px);height: 1px;margin: -1px;overflow: hidden;padding: 0;position: absolute;width: 1px;}#sk-container-id-3 div.sk-estimator {font-family: monospace;background-color: #f0f8ff;border: 1px dotted black;border-radius: 0.25em;box-sizing: border-box;margin-bottom: 0.5em;}#sk-container-id-3 div.sk-estimator:hover {background-color: #d4ebff;}#sk-container-id-3 div.sk-parallel-item::after {content: \"\";width: 100%;border-bottom: 1px solid gray;flex-grow: 1;}#sk-container-id-3 div.sk-label:hover label.sk-toggleable__label {background-color: #d4ebff;}#sk-container-id-3 div.sk-serial::before {content: \"\";position: absolute;border-left: 1px solid gray;box-sizing: border-box;top: 0;bottom: 0;left: 50%;z-index: 0;}#sk-container-id-3 div.sk-serial {display: flex;flex-direction: column;align-items: center;background-color: white;padding-right: 0.2em;padding-left: 0.2em;position: relative;}#sk-container-id-3 div.sk-item {position: relative;z-index: 1;}#sk-container-id-3 div.sk-parallel {display: flex;align-items: stretch;justify-content: center;background-color: white;position: relative;}#sk-container-id-3 div.sk-item::before, #sk-container-id-3 div.sk-parallel-item::before {content: \"\";position: absolute;border-left: 1px solid gray;box-sizing: border-box;top: 0;bottom: 0;left: 50%;z-index: -1;}#sk-container-id-3 div.sk-parallel-item {display: flex;flex-direction: column;z-index: 1;position: relative;background-color: white;}#sk-container-id-3 div.sk-parallel-item:first-child::after {align-self: flex-end;width: 50%;}#sk-container-id-3 div.sk-parallel-item:last-child::after {align-self: flex-start;width: 50%;}#sk-container-id-3 div.sk-parallel-item:only-child::after {width: 0;}#sk-container-id-3 div.sk-dashed-wrapped {border: 1px dashed gray;margin: 0 0.4em 0.5em 0.4em;box-sizing: border-box;padding-bottom: 0.4em;background-color: white;}#sk-container-id-3 div.sk-label label {font-family: monospace;font-weight: bold;display: inline-block;line-height: 1.2em;}#sk-container-id-3 div.sk-label-container {text-align: center;}#sk-container-id-3 div.sk-container {/* jupyter's `normalize.less` sets `[hidden] { display: none; }` but bootstrap.min.css set `[hidden] { display: none !important; }` so we also need the `!important` here to be able to override the default hidden behavior on the sphinx rendered scikit-learn.org. See: https://github.com/scikit-learn/scikit-learn/issues/21755 */display: inline-block !important;position: relative;}#sk-container-id-3 div.sk-text-repr-fallback {display: none;}</style><div id=\"sk-container-id-3\" class=\"sk-top-container\"><div class=\"sk-text-repr-fallback\"><pre>LinearRegression()</pre><b>In a Jupyter environment, please rerun this cell to show the HTML representation or trust the notebook. <br />On GitHub, the HTML representation is unable to render, please try loading this page with nbviewer.org.</b></div><div class=\"sk-container\" hidden><div class=\"sk-item\"><div class=\"sk-estimator sk-toggleable\"><input class=\"sk-toggleable__control sk-hidden--visually\" id=\"sk-estimator-id-3\" type=\"checkbox\" checked><label for=\"sk-estimator-id-3\" class=\"sk-toggleable__label sk-toggleable__label-arrow\">LinearRegression</label><div class=\"sk-toggleable__content\"><pre>LinearRegression()</pre></div></div></div></div></div>"
            ],
            "text/plain": [
              "LinearRegression()"
            ]
          },
          "execution_count": 20,
          "metadata": {},
          "output_type": "execute_result"
        }
      ],
      "source": [
        "from sklearn.linear_model import LinearRegression\n",
        "\n",
        "regr = LinearRegression()\n",
        "col_number = 2\n",
        "\n",
        "regr.fit(X=train_X[:, None, col_number], y=train_y)"
      ]
    },
    {
      "cell_type": "markdown",
      "metadata": {
        "id": "AyR8szikPmcQ"
      },
      "source": [
        "### Ćwiczenie\n",
        "Dokonaj predykcji modelu regresji liniowej na danych testowych (odpowiednia kolumna)."
      ]
    },
    {
      "cell_type": "code",
      "execution_count": 21,
      "metadata": {
        "id": "J8a1aMliPmcQ"
      },
      "outputs": [],
      "source": [
        "predictions = regr.predict(X=test_X[:, None, col_number])"
      ]
    },
    {
      "cell_type": "markdown",
      "metadata": {
        "id": "9ddvBbdHPmcR"
      },
      "source": [
        "### Ćwiczenie\n",
        "\n",
        "Narysuj na wykresie dane testowe (BMI) jako punkty (x,y) oraz dopasowaną do nich prostą y=ax+b.\n",
        "\n",
        "hint:  \n",
        "- użyj `plt.scatter()` i `plt.plot()`\n",
        "- wyświetl wykres używając `plt.show()`\n",
        "- pamiętaj o imporcie `matplotlib.pyplot` jako `plt`"
      ]
    },
    {
      "cell_type": "code",
      "execution_count": 22,
      "metadata": {
        "id": "Rqxo9h0VPmcR"
      },
      "outputs": [
        {
          "data": {
            "image/png": "[encoded data removed]",
            "text/plain": [
              "<Figure size 640x480 with 1 Axes>"
            ]
          },
          "metadata": {},
          "output_type": "display_data"
        }
      ],
      "source": [
        "from matplotlib import pyplot as plt\n",
        "\n",
        "plt.scatter(x=test_X[:, None, col_number], y=test_y)\n",
        "plt.plot(test_X[:, None, col_number], predictions)\n",
        "plt.show()"
      ]
    },
    {
      "cell_type": "markdown",
      "metadata": {
        "id": "X26BUbDCPmcR"
      },
      "source": [
        "### Ćwiczenie\n",
        "Znajdź wartości współczynników a i b równania y=ax+b.\n",
        "\n",
        "hint:\n",
        "poszukaj w dokumentacji `LinearRegression` w sklearn"
      ]
    },
    {
      "cell_type": "code",
      "execution_count": 23,
      "metadata": {
        "id": "gGJ8s5QTPmcS"
      },
      "outputs": [
        {
          "data": {
            "text/plain": [
              "array([998.57768914])"
            ]
          },
          "execution_count": 23,
          "metadata": {},
          "output_type": "execute_result"
        }
      ],
      "source": [
        "regr.coef_"
      ]
    },
    {
      "cell_type": "markdown",
      "metadata": {
        "id": "RK8s0igDPmcS"
      },
      "source": [
        "### Ćwiczenie\n",
        "Policz błąd średniokwadratowy korzystając z funkcji `mean_squared_error` z `sklearn.metrics`."
      ]
    },
    {
      "cell_type": "code",
      "execution_count": 24,
      "metadata": {
        "id": "s4P0wE4NPmcS"
      },
      "outputs": [
        {
          "name": "stdout",
          "output_type": "stream",
          "text": [
            "Mean squared error 4061.8259284949268\n"
          ]
        }
      ],
      "source": [
        "from sklearn.metrics import mean_squared_error\n",
        "\n",
        "mse = mean_squared_error(y_true=test_y, y_pred=predictions)\n",
        "print(f\"Mean squared error {mse}\")"
      ]
    },
    {
      "cell_type": "markdown",
      "metadata": {
        "id": "aYfqotoqPmcS"
      },
      "source": [
        "### Ćwiczenie\n",
        "Zaimplementuj własną wersję błędu średniokwadratowego (zdefiniuj własną funkcję) i sprawdź zgodność wyniku z powyższym.\n",
        "\n",
        "Niech funkcja przyjmuje: etykiety, jedną cechę (BMI), współczynnik (jeden) modelu i wyraz wolny, a zwraca liczbę - MSE."
      ]
    },
    {
      "cell_type": "code",
      "execution_count": 25,
      "metadata": {
        "id": "toDrSJrgPmcT"
      },
      "outputs": [
        {
          "name": "stdout",
          "output_type": "stream",
          "text": [
            "4061.8259284949268\n",
            "8185.914050721344\n"
          ]
        }
      ],
      "source": [
        "# Define custom mean_squared_error function\n",
        "def custom_mse(labels, feature, coefficient, intercept):\n",
        "    predictions = coefficient * feature + intercept\n",
        "    mse = ((labels - predictions) ** 2).mean()\n",
        "    return mse\n",
        "\n",
        "# Sklearn mse result\n",
        "print(mse)\n",
        "\n",
        "# Custom mse result\n",
        "custom_mse_result = custom_mse(labels=y, feature=X[:, None, col_number], coefficient=regr.coef_, intercept=regr.intercept_)\n",
        "print(custom_mse_result)"
      ]
    },
    {
      "cell_type": "markdown",
      "metadata": {
        "id": "b5CBiPHEPmcT"
      },
      "source": [
        "### Ćwiczenie\n",
        "Dopasuj model regresji liniowej do wszystkich kolumn zbiorze danych i znajdź współczynniki modelu.\n",
        "\n",
        "Które cechy ze zbioru danych mają największe znaczenie dla przewidywanej wartości?\n"
      ]
    },
    {
      "cell_type": "code",
      "execution_count": null,
      "metadata": {
        "id": "n3JNeau_PmcT"
      },
      "outputs": [],
      "source": []
    },
    {
      "cell_type": "markdown",
      "metadata": {
        "id": "bThUUhuBPmcT"
      },
      "source": [
        "### Ćwiczenie\n",
        "Zaimplementuj błąd średniokwadratowy dla wielu kolumn jednocześnie (wiele cech) i porównaj z `mean_squared_error`.\n",
        "\n",
        "Niech funkcja przyjmuje: etykiety, wszystkie cechy, współczynniki modelu, wyraz wolny i zwraca liczbę."
      ]
    },
    {
      "cell_type": "code",
      "execution_count": null,
      "metadata": {
        "id": "VjeVfh0cPmcU"
      },
      "outputs": [],
      "source": []
    }
  ],
  "metadata": {
    "colab": {
      "provenance": []
    },
    "kernelspec": {
      "display_name": "Python 3 (ipykernel)",
      "language": "python",
      "name": "python3"
    },
    "language_info": {
      "codemirror_mode": {
        "name": "ipython",
        "version": 3
      },
      "file_extension": ".py",
      "mimetype": "text/x-python",
      "name": "python",
      "nbconvert_exporter": "python",
      "pygments_lexer": "ipython3",
      "version": "3.11.6"
    }
  },
  "nbformat": 4,
  "nbformat_minor": 0
}
